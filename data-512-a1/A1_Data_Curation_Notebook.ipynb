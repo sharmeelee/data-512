{
 "cells": [
  {
   "cell_type": "markdown",
   "metadata": {},
   "source": [
    "## <center> A1: Data Curation </center>\n",
    " <center> Sharmeelee Bijlani </center>\n",
    "  <center> DATA 512 </center>\n",
    " <center> October 4, 2020 </center>"
   ]
  },
  {
   "cell_type": "markdown",
   "metadata": {},
   "source": [
    "## Tutorial: Timeseries of Pageviews on English Wikipedia\n",
    "This notebook guides you to gather, process and analyze pageview traffic from the English Wikipedia. The end result of the notebook is a timeseries chart of pageviews from different access types on a monthly basis. "
   ]
  },
  {
   "cell_type": "markdown",
   "metadata": {},
   "source": [
    "The source data is licensed and subject to Wikimedia Foundation REST API terms of use: https://www.mediawiki.org/wiki/REST_API#Terms_and_conditions"
   ]
  },
  {
   "cell_type": "markdown",
   "metadata": {},
   "source": [
    "## Step 1: Gathering the data"
   ]
  },
  {
   "cell_type": "markdown",
   "metadata": {},
   "source": [
    "We will be using python3 in this notebook. The first step for gathering the data, which is available via APIs, is to import the required packages. The output of this step is five json files, one for each API response. "
   ]
  },
  {
   "cell_type": "code",
   "execution_count": 1,
   "metadata": {},
   "outputs": [],
   "source": [
    "import json\n",
    "import requests"
   ]
  },
  {
   "cell_type": "markdown",
   "metadata": {},
   "source": [
    "There are two different APIs available for pageviews in the Wikipedia API documentation. One is the legacy API for data from 2007 to 2020. The second is the pageview API for data from 2007 to present. We define both endpoints with variable parameters here. "
   ]
  },
  {
   "cell_type": "code",
   "execution_count": 2,
   "metadata": {},
   "outputs": [],
   "source": [
    "# Define parameterized endpoints\n",
    "endpoint_legacy = 'https://wikimedia.org/api/rest_v1/metrics/legacy/pagecounts/aggregate/{project}/{access-site}/{granularity}/{start}/{end}'\n",
    "\n",
    "endpoint_pageviews = 'https://wikimedia.org/api/rest_v1/metrics/pageviews/aggregate/{project}/{access}/{agent}/{granularity}/{start}/{end}'"
   ]
  },
  {
   "cell_type": "markdown",
   "metadata": {},
   "source": [
    "The following 7 cells below set the parameters for each access type within each API. "
   ]
  },
  {
   "cell_type": "code",
   "execution_count": 3,
   "metadata": {},
   "outputs": [],
   "source": [
    "# Parameters for getting aggregated legacy view data for desktop-site pagecount\n",
    "# see: https://wikimedia.org/api/rest_v1/#!/Legacy_data/get_metrics_legacy_pagecounts_aggregate_project_access_site_granularity_start_end\n",
    "desktop_params_legacy = {\"project\" : \"en.wikipedia.org\",\n",
    "                 \"access-site\" : \"desktop-site\",\n",
    "                 \"granularity\" : \"monthly\",\n",
    "                 \"start\" : \"2007120100\",\n",
    "                # for end use 1st day of month following final month of data\n",
    "                 \"end\" : \"2020080100\"\n",
    "                    }"
   ]
  },
  {
   "cell_type": "code",
   "execution_count": 4,
   "metadata": {},
   "outputs": [],
   "source": [
    "# Parameters for getting aggregated legacy view data for mobile-site pagecount\n",
    "# see: https://wikimedia.org/api/rest_v1/#!/Legacy_data/get_metrics_legacy_pagecounts_aggregate_project_access_site_granularity_start_end\n",
    "mobile_params_legacy = {\"project\" : \"en.wikipedia.org\",\n",
    "                 \"access-site\" : \"mobile-site\",\n",
    "                 \"granularity\" : \"monthly\",\n",
    "                 \"start\" : \"2007120100\",\n",
    "                # for end use 1st day of month following final month of data\n",
    "                 \"end\" : \"2020080100\"\n",
    "                    }"
   ]
  },
  {
   "cell_type": "code",
   "execution_count": 5,
   "metadata": {},
   "outputs": [],
   "source": [
    "# Parameters for getting aggregated legacy view data for all-sites pagecount\n",
    "# see: https://wikimedia.org/api/rest_v1/#!/Legacy_data/get_metrics_legacy_pagecounts_aggregate_project_access_site_granularity_start_end\n",
    "all_params_legacy = {\"project\" : \"en.wikipedia.org\",\n",
    "                 \"access-site\" : \"all-sites\",\n",
    "                 \"granularity\" : \"monthly\",\n",
    "                 \"start\" : \"2007120100\",\n",
    "                # for end use 1st day of month following final month of data\n",
    "                 \"end\" : \"2020080100\"\n",
    "                    }"
   ]
  },
  {
   "cell_type": "code",
   "execution_count": 6,
   "metadata": {},
   "outputs": [],
   "source": [
    "# Parameters for getting aggregated current standard pageview data for desktop access. \n",
    "# see: https://wikimedia.org/api/rest_v1/#!/Pageviews_data/get_metrics_pageviews_aggregate_project_access_agent_granularity_start_end\n",
    "desktop_params_pageviews = {\"project\" : \"en.wikipedia.org\",\n",
    "                    \"access\" : \"desktop\",\n",
    "                    \"agent\" : \"user\",\n",
    "                    \"granularity\" : \"monthly\",\n",
    "                    \"start\" : \"2015070100\",\n",
    "                    # for end use 1st day of month following final month of data\n",
    "                    \"end\" : '2020090100'\n",
    "                        }"
   ]
  },
  {
   "cell_type": "code",
   "execution_count": 7,
   "metadata": {},
   "outputs": [],
   "source": [
    "# Parameters for getting aggregated current standard pageview data for mobile-web access\n",
    "# see: https://wikimedia.org/api/rest_v1/#!/Pageviews_data/get_metrics_pageviews_aggregate_project_access_agent_granularity_start_end\n",
    "mweb_params_pageviews = {\"project\" : \"en.wikipedia.org\",\n",
    "                    \"access\" : \"mobile-web\",\n",
    "                    \"agent\" : \"user\",\n",
    "                    \"granularity\" : \"monthly\",\n",
    "                    \"start\" : \"2015070100\",\n",
    "                    # for end use 1st day of month following final month of data\n",
    "                    \"end\" : '2020090100'\n",
    "                        }"
   ]
  },
  {
   "cell_type": "code",
   "execution_count": 8,
   "metadata": {},
   "outputs": [],
   "source": [
    "# Parameters for getting aggregated current standard pageview data for mobile-app access\n",
    "# see: https://wikimedia.org/api/rest_v1/#!/Pageviews_data/get_metrics_pageviews_aggregate_project_access_agent_granularity_start_end\n",
    "mapp_params_pageviews = {\"project\" : \"en.wikipedia.org\",\n",
    "                    \"access\" : \"mobile-app\",\n",
    "                    \"agent\" : \"user\",\n",
    "                    \"granularity\" : \"monthly\",\n",
    "                    \"start\" : \"2015070100\",\n",
    "                    # for end use 1st day of month following final month of data\n",
    "                    \"end\" : '2020090100'\n",
    "                        }"
   ]
  },
  {
   "cell_type": "code",
   "execution_count": 9,
   "metadata": {},
   "outputs": [],
   "source": [
    "# Parameters for getting aggregated current standard pageview data for all access.\n",
    "# see: https://wikimedia.org/api/rest_v1/#!/Pageviews_data/get_metrics_pageviews_aggregate_project_access_agent_granularity_start_end\n",
    "all_params_pageviews = {\"project\" : \"en.wikipedia.org\",\n",
    "                    \"access\" : \"all-access\",\n",
    "                    \"agent\" : \"user\",\n",
    "                    \"granularity\" : \"monthly\",\n",
    "                    \"start\" : \"2015070100\",\n",
    "                    # for end use 1st day of month following final month of data\n",
    "                    \"end\" : '2020090100'\n",
    "                        }"
   ]
  },
  {
   "cell_type": "markdown",
   "metadata": {},
   "source": [
    "The headers below will be added to the json files created at the end of this step. "
   ]
  },
  {
   "cell_type": "code",
   "execution_count": 10,
   "metadata": {},
   "outputs": [],
   "source": [
    "# Customize these with your own information\n",
    "headers = {\n",
    "    'User-Agent': 'https://github.com/sharmeelee',\n",
    "    'From': 'sbijlani@uw.edu'\n",
    "}"
   ]
  },
  {
   "cell_type": "markdown",
   "metadata": {},
   "source": [
    "The definition below uses the endpoints and parameters set above to call the API and get the resulting json response."
   ]
  },
  {
   "cell_type": "code",
   "execution_count": 11,
   "metadata": {},
   "outputs": [],
   "source": [
    "# Definition to call the API endpoint and return json response\n",
    "def api_call(endpoint,parameters):\n",
    "    call = requests.get(endpoint.format(**parameters), headers=headers)\n",
    "    response = call.json()\n",
    "    \n",
    "    return response"
   ]
  },
  {
   "cell_type": "markdown",
   "metadata": {},
   "source": [
    "We call the definition above for each endpoint and respective parameters. "
   ]
  },
  {
   "cell_type": "code",
   "execution_count": 12,
   "metadata": {},
   "outputs": [],
   "source": [
    "# Save each response per API/access type\n",
    "desktop_pagecount_response = api_call(endpoint_legacy, desktop_params_legacy)\n",
    "mobile_pagecount_response = api_call(endpoint_legacy, mobile_params_legacy)\n",
    "all_pagecount_response = api_call(endpoint_legacy, all_params_legacy)\n",
    "desktop_pageviews_response = api_call(endpoint_pageviews, desktop_params_pageviews)\n",
    "mweb_pageviews_response = api_call(endpoint_pageviews, mweb_params_pageviews)\n",
    "mapp_pageviews_response = api_call(endpoint_pageviews, mapp_params_pageviews)\n",
    "all_pageviews_response = api_call(endpoint_pageviews, all_params_pageviews)"
   ]
  },
  {
   "cell_type": "markdown",
   "metadata": {},
   "source": [
    "The code below saves each response as a json file. This marks the end of Step 1: gathering the data. "
   ]
  },
  {
   "cell_type": "code",
   "execution_count": 13,
   "metadata": {},
   "outputs": [],
   "source": [
    "# Create and open a .json file by writing the response from API call defined above\n",
    "with open('pagecounts_desktop-site_200712-202008.json', 'w') as json_file:\n",
    "    json.dump(desktop_pagecount_response, json_file)\n",
    "\n",
    "with open('pagecounts_mobile-site_200712-202008.json', 'w') as json_file:\n",
    "    json.dump(mobile_pagecount_response, json_file)\n",
    "    \n",
    "with open('pageviews_desktop-site_201507-202009.json', 'w') as json_file:\n",
    "    json.dump(desktop_pageviews_response, json_file)\n",
    "    \n",
    "with open('pageviews_mobile-web_201507-202009.json', 'w') as json_file:\n",
    "    json.dump(mweb_pageviews_response, json_file)\n",
    "    \n",
    "with open('pageviews_mobile-app_201507-202009.json', 'w') as json_file:\n",
    "    json.dump(mapp_pageviews_response, json_file)"
   ]
  },
  {
   "cell_type": "markdown",
   "metadata": {},
   "source": [
    "## Step 2: Processing the data"
   ]
  },
  {
   "cell_type": "markdown",
   "metadata": {},
   "source": [
    "Processing the data requires using dataframes, for which we will use pandas package. In this step, we will merge and concatenate the data from 5 different dataframes (one for each API)."
   ]
  },
  {
   "cell_type": "code",
   "execution_count": 14,
   "metadata": {},
   "outputs": [],
   "source": [
    "import pandas as pd\n",
    "import csv"
   ]
  },
  {
   "cell_type": "markdown",
   "metadata": {},
   "source": [
    "First, we need to convert the json responses generated in Step 1 into pandas dataframes for processing."
   ]
  },
  {
   "cell_type": "code",
   "execution_count": 15,
   "metadata": {},
   "outputs": [],
   "source": [
    "# Definition to convert JSON data to a pandas dataframe.\n",
    "def jsonToDf(response):\n",
    "    data = response['items']\n",
    "    df = pd.DataFrame.from_records(data)\n",
    "    return df"
   ]
  },
  {
   "cell_type": "markdown",
   "metadata": {},
   "source": [
    "We call the defintion above for each response resulting in a total of 7 dataframes. "
   ]
  },
  {
   "cell_type": "code",
   "execution_count": 16,
   "metadata": {},
   "outputs": [],
   "source": [
    "# Save each dataframe per API/access type\n",
    "desktop_pagecount_df = jsonToDf(desktop_pagecount_response)\n",
    "mobile_pagecount_df = jsonToDf(mobile_pagecount_response)\n",
    "all_pagecount_df = jsonToDf(all_pagecount_response)\n",
    "desktop_pageviews_df = jsonToDf(desktop_pageviews_response)\n",
    "mweb_pageviews_df = jsonToDf(mweb_pageviews_response)\n",
    "mapp_pageviews_df = jsonToDf(mapp_pageviews_response)\n",
    "all_pageviews_df = jsonToDf(all_pageviews_response)"
   ]
  },
  {
   "cell_type": "markdown",
   "metadata": {},
   "source": [
    "We are interested in the count column of the pagecount dataframes and the views column of the pageviews dataframes. "
   ]
  },
  {
   "cell_type": "code",
   "execution_count": 17,
   "metadata": {},
   "outputs": [],
   "source": [
    "# Rename count column to reflect access type\n",
    "desktop_pagecount_df['pagecount_desktop_views'] = desktop_pagecount_df['count']\n",
    "mobile_pagecount_df['pagecount_mobile_views'] = mobile_pagecount_df['count']\n",
    "all_pagecount_df['pagecount_all_views'] = all_pagecount_df['count']\n",
    "# Rename views column to reflect access type\n",
    "desktop_pageviews_df['pageview_desktop_views'] = desktop_pageviews_df['views']\n",
    "mweb_pageviews_df['pageview_mweb_views'] = mweb_pageviews_df['views']\n",
    "mapp_pageviews_df['pageview_mapp_views'] = mapp_pageviews_df['views']\n",
    "all_pageviews_df['pageview_all_views'] = all_pageviews_df['views']"
   ]
  },
  {
   "cell_type": "markdown",
   "metadata": {},
   "source": [
    "We need to consolidate the mobile-web and mobile-app data into a single dataframe for mobile pageview data."
   ]
  },
  {
   "cell_type": "code",
   "execution_count": 18,
   "metadata": {},
   "outputs": [],
   "source": [
    "# Merge mobile-web data with mobile-app data using outer join based on timestamp column\n",
    "mobile_pageviews_df = mweb_pageviews_df.merge(mapp_pageviews_df, how='outer', on='timestamp')\n",
    "mobile_pageviews_df['pageview_mobile_views'] = mobile_pageviews_df['pageview_mweb_views'] + mobile_pageviews_df['pageview_mapp_views']"
   ]
  },
  {
   "cell_type": "markdown",
   "metadata": {},
   "source": [
    "The code below concatenates all the dataframes into a single dataframe retaining data from each individual dataframe."
   ]
  },
  {
   "cell_type": "code",
   "execution_count": 19,
   "metadata": {},
   "outputs": [],
   "source": [
    "# Concatenate data from 6 dataframes for each API and access type\n",
    "dfs = [desktop_pagecount_df, mobile_pagecount_df, all_pagecount_df, desktop_pageviews_df, mobile_pageviews_df, all_pageviews_df]\n",
    "df = pd.concat(dfs, axis=0, join='outer', ignore_index=True, keys=None,\n",
    "          levels=None, names=None, verify_integrity=False, copy=True)"
   ]
  },
  {
   "cell_type": "markdown",
   "metadata": {},
   "source": [
    "The steps below prepare the data for export to .csv file. To start, we need to fill the 'NaN' values resulting from merge/concatenation with '0's."
   ]
  },
  {
   "cell_type": "code",
   "execution_count": 20,
   "metadata": {},
   "outputs": [],
   "source": [
    "# Replace all the NaN values with '0' in the dataframe\n",
    "df = df.fillna(0)"
   ]
  },
  {
   "cell_type": "markdown",
   "metadata": {},
   "source": [
    "Furthermore, we split the timestamp into a readable year and month columns for the output .csv file. "
   ]
  },
  {
   "cell_type": "code",
   "execution_count": 21,
   "metadata": {},
   "outputs": [],
   "source": [
    "# Splice the timestamp string into year and month strings\n",
    "df['year'] = df['timestamp'].str[:4]\n",
    "df['month'] = df['timestamp'].str[4:6]"
   ]
  },
  {
   "cell_type": "markdown",
   "metadata": {},
   "source": [
    "Finally, select the columns to keep in the .csv output file."
   ]
  },
  {
   "cell_type": "code",
   "execution_count": 22,
   "metadata": {},
   "outputs": [],
   "source": [
    "# Create a new dataframe with selected columns for year, month, and each API/access\n",
    "df_csv = df[['year', 'month', 'pagecount_all_views', 'pagecount_desktop_views', 'pagecount_mobile_views', 'pageview_all_views', 'pageview_desktop_views', 'pageview_mobile_views']]"
   ]
  },
  {
   "cell_type": "markdown",
   "metadata": {},
   "source": [
    "Export the dataframe created above to a .csv file. This marks the end of Step 2: Processing the data."
   ]
  },
  {
   "cell_type": "code",
   "execution_count": 23,
   "metadata": {},
   "outputs": [],
   "source": [
    "# Export the dataframe to .csv file\n",
    "df_csv.to_csv('en-wikipedia_traffic_200712-202008.csv', index=False)"
   ]
  },
  {
   "cell_type": "markdown",
   "metadata": {},
   "source": [
    "## Step 3: Analyze the data"
   ]
  },
  {
   "cell_type": "markdown",
   "metadata": {},
   "source": [
    "We will analyze the data by graphing each access type against time. In this step, we will utilize numpy and matplotlib packages to analyze and visualize numeric data. "
   ]
  },
  {
   "cell_type": "code",
   "execution_count": 24,
   "metadata": {},
   "outputs": [],
   "source": [
    "import numpy as np\n",
    "import matplotlib.pyplot as plt"
   ]
  },
  {
   "cell_type": "markdown",
   "metadata": {},
   "source": [
    "We need to reverse the work done in the previous step and replace the 0 values with NaN. This is required because 0 has a numeric value which will be reflected in the graphical analysis. To avoid misrepresentation of the data, we will change the 0 back to NaN."
   ]
  },
  {
   "cell_type": "code",
   "execution_count": 25,
   "metadata": {},
   "outputs": [],
   "source": [
    "# Replace 0 values with NaN \n",
    "df.replace(0, np.nan, inplace=True)"
   ]
  },
  {
   "cell_type": "markdown",
   "metadata": {},
   "source": [
    "We will need the timestamp column from the merged dataframe created in the previous step. Here we format the timestamp to datetime values, which will be used for plotting the data. "
   ]
  },
  {
   "cell_type": "code",
   "execution_count": 26,
   "metadata": {},
   "outputs": [],
   "source": [
    "# Cast the timestamp column from type string to datetime.\n",
    "df['timestamp'] = pd.to_datetime(df['timestamp'], format='%Y%m%d%H%M')"
   ]
  },
  {
   "cell_type": "markdown",
   "metadata": {},
   "source": [
    "The code below creates and formats the line plot with data from each API per access type. The legacy data is encoded with dashed lines. The final step is to export the plot created above to a .png file as the output of this tutorial. This marks the end of Step 3: Analyzing the data and this tutorial."
   ]
  },
  {
   "cell_type": "code",
   "execution_count": 27,
   "metadata": {},
   "outputs": [
    {
     "data": {
      "image/png": "[encoded data removed]",
      "text/plain": [
       "<Figure size 1296x432 with 1 Axes>"
      ]
     },
     "metadata": {
      "needs_background": "light"
     },
     "output_type": "display_data"
    }
   ],
   "source": [
    "# Plot the pageviews data against time\n",
    "plt.figure(figsize=[18,6])\n",
    "plt.plot(df['timestamp'], df['pagecount_desktop_views'], c='green', linestyle='dashed', label='main site')\n",
    "plt.plot(df['timestamp'], df['pagecount_mobile_views'], c='blue', linestyle='dashed', label='mobile site')\n",
    "plt.plot(df['timestamp'], df['pagecount_all_views'], c='black', linestyle='dashed', label='total')\n",
    "plt.plot(df['timestamp'], df['pageview_desktop_views'], c='green')\n",
    "plt.plot(df['timestamp'], df['pageview_mobile_views'], c='blue')\n",
    "plt.plot(df['timestamp'], df['pageview_all_views'], c='black')\n",
    "# Create a legend to decode access type by color\n",
    "plt.legend(loc='upper left')\n",
    "# Add title and gridlines to the figure\n",
    "plt.title(\"Page Views on English Wikipedia\", fontsize=14)\n",
    "plt.grid(which='major', axis='both')\n",
    "# Save the figure to a .png file\n",
    "plt.savefig(\"PageviewsOnEnglishWikipedia.png\")"
   ]
  }
 ],
 "metadata": {
  "kernelspec": {
   "display_name": "Python 3",
   "language": "python",
   "name": "python3"
  },
  "language_info": {
   "codemirror_mode": {
    "name": "ipython",
    "version": 3
   },
   "file_extension": ".py",
   "mimetype": "text/x-python",
   "name": "python",
   "nbconvert_exporter": "python",
   "pygments_lexer": "ipython3",
   "version": "3.8.2"
  }
 },
 "nbformat": 4,
 "nbformat_minor": 4
}
